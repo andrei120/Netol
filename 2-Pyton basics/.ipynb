{
 "cells": [
  {
   "cell_type": "code",
   "execution_count": 5,
   "metadata": {},
   "outputs": [
    {
     "data": {
      "text/plain": [
       "True"
      ]
     },
     "execution_count": 5,
     "metadata": {},
     "output_type": "execute_result"
    }
   ],
   "source": [
    "long_phrase = 'Насколько проще было бы писать программы, если бы не заказчики'\n",
    "short_phrase = '640Кб должно хватить для любых задач. Билл Гейтс (по легенде)'\n",
    "len(long_phrase) > len(short_phrase)\n"
   ]
  },
  {
   "cell_type": "code",
   "execution_count": 10,
   "metadata": {},
   "outputs": [
    {
     "name": "stdout",
     "output_type": "stream",
     "text": [
      "True\n"
     ]
    }
   ],
   "source": [
    "long_phrase = 'Насколько проще было бы писать программы, если бы не заказчики'\n",
    "short_phrase = '640Кб должно хватить для любых задач. Билл Гейтс (по легенде)'\n",
    "print (len(long_phrase) > len(short_phrase))\n"
   ]
  },
  {
   "cell_type": "code",
   "execution_count": 55,
   "metadata": {},
   "outputs": [
    {
     "name": "stdout",
     "output_type": "stream",
     "text": [
      "Объем файла равен 213.68 Mb\n"
     ]
    }
   ],
   "source": [
    "volume_byte = 224059720\n",
    "volume_megabyte = volume_byte / 1048576\n",
    "print('Объем файла равен', round(volume_megabyte, 2),'Mb') "
   ]
  },
  {
   "cell_type": "code",
   "execution_count": 57,
   "metadata": {},
   "outputs": [
    {
     "name": "stdout",
     "output_type": "stream",
     "text": [
      "Введите месяц  June\n",
      "Введите число  2\n",
      "Близнецы\n"
     ]
    }
   ],
   "source": [
    "month = input('Введите месяц  '  )\n",
    "date = int(input('Введите число  '  ))\n",
    "if (month == \"January\" and date < 20)  or (month == \"December\" and date > 22):\n",
    "    print(\"Козерог\")\n",
    "elif (month == \"January\" and date > 19) or (month == \"February\" and date < 19):\n",
    "    print(\"Водолей\")\n",
    "elif (month == \"February\" and date > 18) or (month == \"March\" and date < 21):\n",
    "    print(\"Рыбы\")   \n",
    "elif (month == \"March\" and date > 20) or (month == \"April\" and date < 20):\n",
    "    print(\"Овен\")    \n",
    "elif (month == \"April\" and date > 19) or (month == \"May\" and date < 21):\n",
    "    print(\"Телец\") \n",
    "elif (month == \"May\" and date > 20) or (month == \"June\" and date < 22):\n",
    "    print(\"Близнецы\") \n",
    "elif (month == \"June\" and date > 21) or (month == \"Julay\" and date < 23):\n",
    "    print(\"Рак\") \n",
    "elif (month == \"Julay\" and date > 22) or (month == \"August\" and date < 23):\n",
    "    print(\"Лев\") \n",
    "elif (month == \"August\" and date > 22) or (month == \"September\" and date < 23):\n",
    "    print(\"Дева\")\n",
    "elif (month == \"September\" and date > 22) or (month == \"October\" and date < 24):\n",
    "    print(\"Весы\")\n",
    "elif (month == \"October\" and date > 23) or (month == \"November\" and date < 23):\n",
    "    print(\"Скорпион\")\n",
    "else:\n",
    "    print(\"Стрелец\")\n",
    "\n"
   ]
  },
  {
   "cell_type": "code",
   "execution_count": 56,
   "metadata": {},
   "outputs": [
    {
     "name": "stdout",
     "output_type": "stream",
     "text": [
      "Введите заработанную плату в месяц  100000\n",
      "Введите сколько процентов уходит на ипотеку  30\n",
      "Введите сколько процентов уходит на жизнь  50\n",
      "Введите количество премий за год  2\n",
      "На ипотеку было потрачено: 360000.0 Было накоплено 340000.0 рублей\n"
     ]
    }
   ],
   "source": [
    "salary = int(input(\"Введите заработанную плату в месяц  \"))\n",
    "mortgage_share = int(input(\"Введите сколько процентов уходит на ипотеку  \"))\n",
    "life_share = int(input(\"Введите сколько процентов уходит на жизнь  \"))\n",
    "bonuses = int(input(\"Введите количество премий за год  \"))\n",
    "mortgage_volume = salary * 12 * mortgage_share / 100\n",
    "life_volume = salary * (12 * life_share / 100 + bonuses/2)\n",
    "pension_savings = salary * (12 + bonuses) - mortgage_volume - life_volume\n",
    "print(\"На ипотеку было потрачено:\", mortgage_volume, \"Было накоплено\", pension_savings, \"рублей\")"
   ]
  }
 ],
 "metadata": {
  "kernelspec": {
   "display_name": "Python 3",
   "language": "python",
   "name": "python3"
  },
  "language_info": {
   "codemirror_mode": {
    "name": "ipython",
    "version": 3
   },
   "file_extension": ".py",
   "mimetype": "text/x-python",
   "name": "python",
   "nbconvert_exporter": "python",
   "pygments_lexer": "ipython3",
   "version": "3.7.6"
  }
 },
 "nbformat": 4,
 "nbformat_minor": 4
}
